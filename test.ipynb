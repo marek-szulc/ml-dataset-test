{
 "cells": [
  {
   "cell_type": "markdown",
   "metadata": {},
   "source": [
    "## Load data sets and split into features and labels"
   ]
  },
  {
   "cell_type": "code",
   "execution_count": 1,
   "metadata": {},
   "outputs": [
    {
     "name": "stdout",
     "output_type": "stream",
     "text": [
      "<class 'pandas.core.frame.DataFrame'>\n",
      "RangeIndex: 25192 entries, 0 to 25191\n",
      "Data columns (total 42 columns):\n",
      " #   Column                       Non-Null Count  Dtype  \n",
      "---  ------                       --------------  -----  \n",
      " 0   duration                     25192 non-null  int64  \n",
      " 1   protocol_type                25192 non-null  object \n",
      " 2   service                      25192 non-null  object \n",
      " 3   flag                         25192 non-null  object \n",
      " 4   src_bytes                    25192 non-null  int64  \n",
      " 5   dst_bytes                    25192 non-null  int64  \n",
      " 6   land                         25192 non-null  int64  \n",
      " 7   wrong_fragment               25192 non-null  int64  \n",
      " 8   urgent                       25192 non-null  int64  \n",
      " 9   hot                          25192 non-null  int64  \n",
      " 10  num_failed_logins            25192 non-null  int64  \n",
      " 11  logged_in                    25192 non-null  int64  \n",
      " 12  num_compromised              25192 non-null  int64  \n",
      " 13  root_shell                   25192 non-null  int64  \n",
      " 14  su_attempted                 25192 non-null  int64  \n",
      " 15  num_root                     25192 non-null  int64  \n",
      " 16  num_file_creations           25192 non-null  int64  \n",
      " 17  num_shells                   25192 non-null  int64  \n",
      " 18  num_access_files             25192 non-null  int64  \n",
      " 19  num_outbound_cmds            25192 non-null  int64  \n",
      " 20  is_host_login                25192 non-null  int64  \n",
      " 21  is_guest_login               25192 non-null  int64  \n",
      " 22  count                        25192 non-null  int64  \n",
      " 23  srv_count                    25192 non-null  int64  \n",
      " 24  serror_rate                  25192 non-null  float64\n",
      " 25  srv_serror_rate              25192 non-null  float64\n",
      " 26  rerror_rate                  25192 non-null  float64\n",
      " 27  srv_rerror_rate              25192 non-null  float64\n",
      " 28  same_srv_rate                25192 non-null  float64\n",
      " 29  diff_srv_rate                25192 non-null  float64\n",
      " 30  srv_diff_host_rate           25192 non-null  float64\n",
      " 31  dst_host_count               25192 non-null  int64  \n",
      " 32  dst_host_srv_count           25192 non-null  int64  \n",
      " 33  dst_host_same_srv_rate       25192 non-null  float64\n",
      " 34  dst_host_diff_srv_rate       25192 non-null  float64\n",
      " 35  dst_host_same_src_port_rate  25192 non-null  float64\n",
      " 36  dst_host_srv_diff_host_rate  25192 non-null  float64\n",
      " 37  dst_host_serror_rate         25192 non-null  float64\n",
      " 38  dst_host_srv_serror_rate     25192 non-null  float64\n",
      " 39  dst_host_rerror_rate         25192 non-null  float64\n",
      " 40  dst_host_srv_rerror_rate     25192 non-null  float64\n",
      " 41  class                        25192 non-null  object \n",
      "dtypes: float64(15), int64(23), object(4)\n",
      "memory usage: 8.1+ MB\n",
      "None\n",
      "class\n",
      "normal     13449\n",
      "anomaly    11743\n",
      "Name: count, dtype: int64\n"
     ]
    }
   ],
   "source": [
    "import pandas as pd\n",
    "from sklearn.model_selection import train_test_split\n",
    "from sklearn.preprocessing import LabelEncoder, OneHotEncoder, StandardScaler\n",
    "from sklearn.linear_model import Perceptron\n",
    "from sklearn.ensemble import RandomForestClassifier, VotingClassifier\n",
    "from sklearn.tree import DecisionTreeClassifier\n",
    "from sklearn.neighbors import KNeighborsClassifier\n",
    "from sklearn.neural_network import MLPClassifier\n",
    "from sklearn.compose import ColumnTransformer\n",
    "\n",
    "# dataset title: network intrusion detection\n",
    "# dataset source: https://www.kaggle.com/datasets/sampadab17/network-intrusion-detection/data\n",
    "\n",
    "nid_train_data = pd.read_csv('network_intrusion_detection_train.csv')\n",
    "#print(nid_train_data.head())\n",
    "print(nid_train_data.info())\n",
    "nid_test_data = pd.read_csv('network_intrusion_detection_test.csv')\n",
    "#print(nid_test_data.head())\n",
    "\n",
    "# check how much of the traffic is malicious in the training data\n",
    "class_distribution = nid_train_data['class'].value_counts()\n",
    "print(class_distribution)"
   ]
  },
  {
   "cell_type": "code",
   "execution_count": 2,
   "metadata": {},
   "outputs": [],
   "source": [
    "label_encoder = LabelEncoder()\n",
    "nid_train_data['class'] = label_encoder.fit_transform(nid_train_data['class'])\n",
    "\n",
    "X_train = nid_train_data.drop(columns=['class'])  # X - features\n",
    "y_train = nid_train_data['class']  # y - labels"
   ]
  },
  {
   "cell_type": "code",
   "execution_count": 3,
   "metadata": {},
   "outputs": [],
   "source": [
    "# Identify categorical columns (protocol_type, service, flag) for encoding\n",
    "categorical_cols = ['protocol_type', 'service', 'flag']\n",
    "numeric_cols = X_train.columns.difference(categorical_cols)\n",
    "\n",
    "# Use ColumnTransformer to one-hot encode categorical columns and leave numeric columns unchanged\n",
    "preprocessor = ColumnTransformer(\n",
    "    transformers=[\n",
    "        ('num', 'passthrough', numeric_cols),\n",
    "        ('cat', OneHotEncoder(handle_unknown='ignore'), categorical_cols)\n",
    "    ])\n",
    "\n",
    "# Preprocess both training and test sets\n",
    "X_train_preprocessed = preprocessor.fit_transform(X_train)\n",
    "X_test_preprocessed = preprocessor.transform(nid_test_data)\n",
    "\n",
    "# Scale the data after encoding\n",
    "scaler = StandardScaler()\n",
    "X_train_scaled = scaler.fit_transform(X_train_preprocessed)\n",
    "X_test_scaled = scaler.transform(X_test_preprocessed)"
   ]
  },
  {
   "cell_type": "code",
   "execution_count": 4,
   "metadata": {},
   "outputs": [],
   "source": [
    "# Linear Perceptron\n",
    "linear_perceptron = Perceptron(max_iter=1000)\n",
    "linear_perceptron.fit(X_train_scaled, y_train)\n",
    "lp_test_predictions = linear_perceptron.predict(X_test_scaled)"
   ]
  },
  {
   "cell_type": "code",
   "execution_count": 5,
   "metadata": {},
   "outputs": [],
   "source": [
    "# Random Forest\n",
    "random_forest = RandomForestClassifier(n_estimators=100, random_state=42)\n",
    "random_forest.fit(X_train_scaled, y_train)\n",
    "rf_test_predictions = random_forest.predict(X_test_scaled)"
   ]
  },
  {
   "cell_type": "code",
   "execution_count": 6,
   "metadata": {},
   "outputs": [],
   "source": [
    "# Voting Classifier (combining RandomForest, DecisionTree, KNN, MLP)\n",
    "decision_tree = DecisionTreeClassifier(random_state=42)\n",
    "knn = KNeighborsClassifier(n_neighbors=5)\n",
    "mlp = MLPClassifier(max_iter=300, random_state=42)\n",
    "\n",
    "voting_clf = VotingClassifier(estimators=[\n",
    "    ('rf', random_forest), \n",
    "    ('dt', decision_tree), \n",
    "    ('knn', knn), \n",
    "    ('mlp', mlp)],\n",
    "    voting='hard')\n",
    "\n",
    "voting_clf.fit(X_train_scaled, y_train)\n",
    "vc_test_predictions = voting_clf.predict(X_test_scaled)"
   ]
  },
  {
   "cell_type": "code",
   "execution_count": 7,
   "metadata": {},
   "outputs": [
    {
     "name": "stdout",
     "output_type": "stream",
     "text": [
      "Predictions saved to CSV files. (done on test dataset)\n",
      "Counts in lp_test_predictions.csv:\n",
      "Linear_Perceptron_Predictions\n",
      "1    13682\n",
      "0     8862\n",
      "Name: count, dtype: int64\n",
      "\n",
      "Counts in rf_test_predictions.csv:\n",
      "Random_Forest_Predictions\n",
      "1    14196\n",
      "0     8348\n",
      "Name: count, dtype: int64\n",
      "\n",
      "Counts in vc_test_predictions.csv:\n",
      "Voting_Classifier_Predictions\n",
      "1    13000\n",
      "0     9544\n",
      "Name: count, dtype: int64\n",
      "\n"
     ]
    }
   ],
   "source": [
    "# predictions for test data\n",
    "pd.DataFrame(lp_test_predictions, columns=['Linear_Perceptron_Predictions']).to_csv('lp_test_predictions.csv', index=False)\n",
    "pd.DataFrame(rf_test_predictions, columns=['Random_Forest_Predictions']).to_csv('rf_test_predictions.csv', index=False)\n",
    "pd.DataFrame(vc_test_predictions, columns=['Voting_Classifier_Predictions']).to_csv('vc_test_predictions.csv', index=False)\n",
    "print(\"Predictions saved to CSV files. (done on test dataset)\")\n",
    "\n",
    "predictions = [\n",
    "    (lp_test_predictions, 'Linear_Perceptron_Predictions', 'lp_test_predictions.csv'),\n",
    "    (rf_test_predictions, 'Random_Forest_Predictions', 'rf_test_predictions.csv'),\n",
    "    (vc_test_predictions, 'Voting_Classifier_Predictions', 'vc_test_predictions.csv')\n",
    "]\n",
    "\n",
    "# 0 for normal traffic, 1 for malcious traffic (abnormal)\n",
    "for pred, col_name, file_name in predictions:\n",
    "    pd.DataFrame(pred, columns=[col_name]).to_csv(file_name, index=False)\n",
    "    pred_df = pd.read_csv(file_name)\n",
    "    pred_count = pred_df[col_name].value_counts()\n",
    "    print(f\"Counts in {file_name}:\")\n",
    "    print(pred_count)\n",
    "    print()"
   ]
  },
  {
   "cell_type": "code",
   "execution_count": 8,
   "metadata": {},
   "outputs": [
    {
     "name": "stdout",
     "output_type": "stream",
     "text": [
      "Linear Perceptron Training Accuracy: 0.9438710701810098\n",
      "Linear Perceptron Cross-Validation Accuracy: 0.9682837582615818\n",
      "Random Forest Training Accuracy: 0.9999603048586853\n",
      "Random Forest Cross-Validation Accuracy: 0.997221316447076\n",
      "Voting Classifier Training Accuracy: 0.9996824388694824\n",
      "Voting Classifier Cross-Validation Accuracy: 0.9970228722514605\n"
     ]
    }
   ],
   "source": [
    "# Evaluate accuracy on training data\n",
    "lp_train_accuracy = linear_perceptron.score(X_train_scaled, y_train)\n",
    "print(f'Linear Perceptron Training Accuracy: {lp_train_accuracy}')\n",
    "from sklearn.model_selection import cross_val_score\n",
    "# Perform cross-validation on the training data\n",
    "lp_cv_scores = cross_val_score(linear_perceptron, X_train_scaled, y_train, cv=5)\n",
    "print(f'Linear Perceptron Cross-Validation Accuracy: {lp_cv_scores.mean()}')\n",
    "\n",
    "\n",
    "rf_train_accuracy = random_forest.score(X_train_scaled, y_train)\n",
    "print(f'Random Forest Training Accuracy: {rf_train_accuracy}')\n",
    "cv_scores = cross_val_score(random_forest, X_train_scaled, y_train, cv=5)\n",
    "print(f'Random Forest Cross-Validation Accuracy: {cv_scores.mean()}')\n",
    "\n",
    "vc_train_accuracy = voting_clf.score(X_train_scaled, y_train)\n",
    "print(f'Voting Classifier Training Accuracy: {vc_train_accuracy}')\n",
    "vc_cv_scores = cross_val_score(voting_clf, X_train_scaled, y_train, cv=5)\n",
    "print(f'Voting Classifier Cross-Validation Accuracy: {vc_cv_scores.mean()}')"
   ]
  }
 ],
 "metadata": {
  "language_info": {
   "name": "python"
  }
 },
 "nbformat": 4,
 "nbformat_minor": 2
}
